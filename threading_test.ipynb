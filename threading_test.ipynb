{
 "cells": [
  {
   "cell_type": "markdown",
   "metadata": {},
   "source": [
    "# Threading test"
   ]
  },
  {
   "cell_type": "code",
   "execution_count": 2,
   "metadata": {},
   "outputs": [],
   "source": [
    "import threading\n",
    "import time\n",
    "from datetime import datetime"
   ]
  },
  {
   "cell_type": "markdown",
   "metadata": {},
   "source": [
    "## 对于计算密集型任务, python的多线程并无帮助"
   ]
  },
  {
   "cell_type": "code",
   "execution_count": 8,
   "metadata": {},
   "outputs": [
    {
     "name": "stdout",
     "output_type": "stream",
     "text": [
      "[2019-07-23 17:57:14.691167] Working started\n",
      "[2019-07-23 17:57:17.465585] Worker 1\n",
      "[2019-07-23 17:57:17.851368] Worker 2\n",
      "[2019-07-23 17:57:17.936333] Worker 0\n",
      "[2019-07-23 17:57:20.251026] Worker 1\n",
      "[2019-07-23 17:57:20.661781] Worker 2\n",
      "[2019-07-23 17:57:21.260456] Worker 0\n",
      "[2019-07-23 17:57:22.734610] Worker 1\n",
      "[2019-07-23 17:57:23.312284] Worker 2\n",
      "[2019-07-23 17:57:23.547151] Worker 0\n",
      "Time cost: 8.856988 seconds\n",
      "\n",
      "[2019-07-23 17:57:23.548155] Working started\n",
      "[2019-07-23 17:57:26.443942] Worker 3\n",
      "[2019-07-23 17:57:29.141921] Worker 3\n",
      "[2019-07-23 17:57:31.849882] Worker 3\n",
      "Time cost: 8.302715 seconds\n"
     ]
    }
   ],
   "source": [
    "class Worker(threading.Thread):\n",
    "    def __init__(self, index, payload):\n",
    "        super().__init__()\n",
    "        self.index = index\n",
    "        self.payload = payload\n",
    "\n",
    "    def run(self):\n",
    "        iteration = 0\n",
    "        while iteration < 3:\n",
    "            res = 1\n",
    "            for i in range(int(self.payload)):\n",
    "                res *= i\n",
    "            end = datetime.now()\n",
    "            print('[{}] Worker {}'.format(end, self.index))\n",
    "            iteration += 1\n",
    "\n",
    "start = datetime.now()\n",
    "print('[{}] Working started'.format(start))\n",
    "workers = [Worker(i, 2e7) for i in range(3)]\n",
    "for w in workers:\n",
    "    w.start()\n",
    "for w in workers:\n",
    "    w.join()\n",
    "print('Time cost: {} seconds'.format((datetime.now() - start).total_seconds()))\n",
    "\n",
    "start = datetime.now()\n",
    "print('\\n[{}] Working started'.format(start))\n",
    "w = Worker(3, 6e7)\n",
    "w.start()\n",
    "w.join()\n",
    "print('Time cost: {} seconds'.format((datetime.now() - start).total_seconds()))"
   ]
  },
  {
   "cell_type": "markdown",
   "metadata": {},
   "source": [
    "## 对于IO密集型任务, python的多线程非常有用, 比如`time.sleep`, 网络请求以及磁盘读写等"
   ]
  },
  {
   "cell_type": "code",
   "execution_count": 11,
   "metadata": {
    "scrolled": true
   },
   "outputs": [
    {
     "name": "stdout",
     "output_type": "stream",
     "text": [
      "[2019-07-23 18:01:46.884399] Working started\n",
      "[2019-07-23 18:01:47.886516] Worker 1[2019-07-23 18:01:47.889512] Worker 2\n",
      "\n",
      "[2019-07-23 18:01:47.892492] Worker 0\n",
      "[2019-07-23 18:01:48.893204] Worker 2[2019-07-23 18:01:48.893204] Worker 1\n",
      "\n",
      "[2019-07-23 18:01:48.896256] Worker 0\n",
      "[2019-07-23 18:01:49.894705] Worker 2[2019-07-23 18:01:49.894705] Worker 1\n",
      "\n",
      "[2019-07-23 18:01:49.896704] Worker 0\n",
      "Time cost: 3.013303 seconds\n",
      "\n",
      "[2019-07-23 18:01:49.897702] Working started\n",
      "[2019-07-23 18:01:52.899254] Worker 3\n",
      "[2019-07-23 18:01:55.901994] Worker 3\n",
      "[2019-07-23 18:01:58.902683] Worker 3\n",
      "Time cost: 9.004981 seconds\n"
     ]
    }
   ],
   "source": [
    "class Worker(threading.Thread):\n",
    "    def __init__(self, index, payload):\n",
    "        super().__init__()\n",
    "        self.index = index\n",
    "        self.payload = payload\n",
    "\n",
    "    def run(self):\n",
    "        iteration = 0\n",
    "        while iteration < 3:\n",
    "            time.sleep(self.payload)\n",
    "            end = datetime.now()\n",
    "            print('[{}] Worker {}'.format(end, self.index))\n",
    "            iteration += 1\n",
    "\n",
    "start = datetime.now()\n",
    "print('[{}] Working started'.format(start))\n",
    "workers = [Worker(i, 1) for i in range(3)]\n",
    "for w in workers:\n",
    "    w.start()\n",
    "for w in workers:\n",
    "    w.join()\n",
    "print('Time cost: {} seconds'.format((datetime.now() - start).total_seconds()))\n",
    "\n",
    "start = datetime.now()\n",
    "print('\\n[{}] Working started'.format(start))\n",
    "w = Worker(3, 3)\n",
    "w.start()\n",
    "w.join()\n",
    "print('Time cost: {} seconds'.format((datetime.now() - start).total_seconds()))"
   ]
  },
  {
   "cell_type": "code",
   "execution_count": null,
   "metadata": {},
   "outputs": [],
   "source": []
  }
 ],
 "metadata": {
  "kernelspec": {
   "display_name": "Python 3",
   "language": "python",
   "name": "python3"
  },
  "language_info": {
   "codemirror_mode": {
    "name": "ipython",
    "version": 3
   },
   "file_extension": ".py",
   "mimetype": "text/x-python",
   "name": "python",
   "nbconvert_exporter": "python",
   "pygments_lexer": "ipython3",
   "version": "3.7.3"
  }
 },
 "nbformat": 4,
 "nbformat_minor": 2
}
